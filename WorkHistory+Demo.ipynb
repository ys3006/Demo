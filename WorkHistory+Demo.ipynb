{
 "cells": [
  {
   "cell_type": "code",
   "execution_count": 1,
   "metadata": {
    "collapsed": true
   },
   "outputs": [],
   "source": [
    "import bs4\n",
    "from urllib.request import urlopen as uReq\n",
    "from bs4 import BeautifulSoup as soup"
   ]
  },
  {
   "cell_type": "code",
   "execution_count": 2,
   "metadata": {},
   "outputs": [
    {
     "name": "stdout",
     "output_type": "stream",
     "text": [
      "name: Xin Wang\n",
      "company: Allergan\n",
      "position: Workforce Analyst\n",
      "year: 5 mos\n",
      "company: The Synergos Institute\n",
      "position: Change Management/ HR Intern\n",
      "year: 4 mos\n",
      "company: United Nations\n",
      "position: Industrial and Organizational Psychology Intern\n",
      "year: 7 mos\n",
      "company: Retensa\n",
      "position: Organizational Development Associate\n",
      "year: 7 mos\n",
      "company: KPMG China\n",
      "position: CSR Intern\n",
      "year: 3 mos\n",
      "name: Yifan Sun\n",
      "company: Teachers College of Columbia University\n",
      "position: Lab Assistant\n",
      "year: 4 mos\n",
      "company: BrandLink Communications\n",
      "position: Operations Intern\n",
      "year: 2 mos\n",
      "company: Bank of China\n",
      "position: Trade and Finance Intern\n",
      "year: 2 mos\n",
      "company: Accenture\n",
      "position: Project Management Intern\n",
      "year: 4 mos\n",
      "name: Kevin Zhan\n",
      "company: Allergan\n",
      "position: Director, Workforce Analytics and Reporting\n",
      "year: 10 mos\n",
      "company: The Advisory Board Company\n",
      "position: Senior Director of Workforce Analytics\n",
      "year: 3 yrs 1 mo\n",
      "company: Deloitte\n",
      "position: Manager\n",
      "year: 2 yrs 1 mo\n",
      "company: Booz Allen Hamilton\n",
      "position: Senior Consultant\n",
      "year: 3 yrs 3 mos\n",
      "company: PricewaterhouseCoopers\n",
      "position: Associate\n",
      "year: 1 yr 11 mos\n"
     ]
    }
   ],
   "source": [
    "my_url = ['file:///Users/Yifan/Desktop/Xin%20Wang%20_%20LinkedIn.htm',\n",
    "          'file:///Users/Yifan/Desktop/Yifan%20Sun%20_%20LinkedIn.htm',\n",
    "          'file:///Users/Yifan/Desktop/Kevin%20Zhan%20_%20LinkedIn.htm']\n",
    "\n",
    "filename = \"WorkHistory.csv\"\n",
    "f = open(filename, \"w\")\n",
    "\n",
    "headers = \"name, company, position, year\\n\"\n",
    "\n",
    "f.write(headers)\n",
    "\n",
    "\n",
    "# opening up the connection, grabbing the page\n",
    "for my_url in my_url:\n",
    "    uClient = uReq(my_url)\n",
    "    page_html = uClient.read()\n",
    "    uClient.close()\n",
    "\n",
    "    # html parser\n",
    "    page_soup = soup(page_html, 'html.parser')\n",
    "\n",
    "    name_containers = page_soup.findAll(\"h1\", {\"class\": \"pv-top-card-section__name Sans-26px-black-85%\"})\n",
    "    name = name_containers[0].text\n",
    "    print(\"name: \" + name)\n",
    "    \n",
    "    containers = page_soup.findAll(\"li\", {\"class\":\"pv-profile-section__card-item pv-position-entity ember-view\"})\n",
    "\n",
    "    for contain in containers: \n",
    "\n",
    "        company_container = contain.findAll(\"span\",{\"class\":\"pv-entity__secondary-title\"})\n",
    "        company = company_container[0].text\n",
    "\n",
    "        position_container = contain.h3\n",
    "        position = position_container.text\n",
    "\n",
    "        year_container = contain.findAll(\"span\",{\"class\":\"pv-entity__bullet-item\"})\n",
    "        year = year_container[0].text\n",
    "\n",
    "        print(\"company: \" + company)\n",
    "        print(\"position: \" + position)\n",
    "        print(\"year: \" + year)\n",
    "        \n",
    "        f.write(name + \",\" + company + \",\" + \"\\\"\" + position + \"\\\"\" + \",\" + year + \"\\n\")\n",
    "\n",
    "f.close()"
   ]
  },
  {
   "cell_type": "code",
   "execution_count": null,
   "metadata": {
    "collapsed": true
   },
   "outputs": [],
   "source": []
  }
 ],
 "metadata": {
  "kernelspec": {
   "display_name": "Python 3",
   "language": "python",
   "name": "python3"
  },
  "language_info": {
   "codemirror_mode": {
    "name": "ipython",
    "version": 3
   },
   "file_extension": ".py",
   "mimetype": "text/x-python",
   "name": "python",
   "nbconvert_exporter": "python",
   "pygments_lexer": "ipython3",
   "version": "3.6.2"
  }
 },
 "nbformat": 4,
 "nbformat_minor": 2
}
